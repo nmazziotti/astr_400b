{
 "cells": [
  {
   "cell_type": "markdown",
   "metadata": {},
   "source": [
    "# Lab 5 ASTR 400B \n"
   ]
  },
  {
   "cell_type": "code",
   "execution_count": 1,
   "metadata": {},
   "outputs": [],
   "source": [
    "# Import Modules \n",
    "import numpy as np\n",
    "import matplotlib.pyplot as plt\n",
    "import matplotlib\n",
    "from astropy import constants as const # import astropy constants\n",
    "import astropy.units as u"
   ]
  },
  {
   "cell_type": "markdown",
   "metadata": {},
   "source": [
    "# Part A :  Mass to Light Ratios \n",
    "\n",
    "Wolf et al. 2010 \n",
    "\n",
    "$M(<R_{half}) = \\frac {4}{G}\\sigma^2 R_e$\n",
    "\n",
    "Where $R_{half}$ = 3D half mass radius \n",
    "and $R_e$ is the 2D half mass radius of stars (observed)\n",
    "\n",
    "Determine which of the following two systems are galaxies:\n",
    "\n",
    "The system 47 Tuc is observed with:  $\\sigma = 17.3$ km/s, $R_e = 0.5$ pc, $L_v \\sim 10^5 L_\\odot$ \n",
    "\n",
    "The system Willman I is observed with: $\\sigma = 4.3$ km/s, $R_e = 25$ pc, $L_v = 10^3 L_\\odot$"
   ]
  },
  {
   "cell_type": "code",
   "execution_count": 2,
   "metadata": {},
   "outputs": [],
   "source": [
    "# Gravitational Constant in the desired units\n",
    "# kpc^3/Gyr^2/Msun\n",
    "Grav = const.G.to(u.kpc**3/u.Gyr**2/u.Msun)"
   ]
  },
  {
   "cell_type": "code",
   "execution_count": 3,
   "metadata": {},
   "outputs": [],
   "source": [
    "def WolfMass(sigma, re):\n",
    "    \"\"\" Function that defines the Wolf mass estimator from Wolf+ 2010\n",
    "    PARAMETERS\n",
    "    ----------\n",
    "        sigma: astropy quantity\n",
    "            1D line of sight velocity dispersion in km/s\n",
    "        re: astropy quantity\n",
    "            Effective radius, 2D radius enclosing half the\n",
    "            stellar mass in kpc\n",
    "    OUTPUTS\n",
    "    -------\n",
    "        mWolf: Returns the dynamical mass within the \n",
    "            half light radius in Msun\n",
    "    \"\"\"\n",
    "    \n",
    "    sigmaKpcGyr = sigma.to(u.kpc/u.Gyr) # velocity dispersion units\n",
    "    \n",
    "    mWolf = 4/Grav*sigmaKpcGyr**2*re # Wolf mass estimator\n",
    "    \n",
    "    return mWolf"
   ]
  },
  {
   "cell_type": "code",
   "execution_count": 4,
   "metadata": {},
   "outputs": [
    {
     "name": "stdout",
     "output_type": "stream",
     "text": [
      "1.39e+05 solMass\n",
      "1.3917496255280226 solMass / solLum\n"
     ]
    }
   ],
   "source": [
    "# 47 Tuc observations\n",
    "sigma_47Tuc = 17.3*u.km/u.s\n",
    "Re_47Tuc = 0.5*u.pc\n",
    "Lv_47Tuc = 1e5*u.Lsun\n",
    "\n",
    "# Compute Wolf mass for 47 Tuc \n",
    "mWolf_47Tuc = WolfMass(sigma_47Tuc, Re_47Tuc.to(u.kpc))\n",
    "print(f\"{mWolf_47Tuc:.3}\")\n",
    "\n",
    "# Compute mass-luminosity ratio for 47 Tuc\n",
    "print(mWolf_47Tuc/Lv_47Tuc)"
   ]
  },
  {
   "cell_type": "code",
   "execution_count": 5,
   "metadata": {},
   "outputs": [
    {
     "name": "stdout",
     "output_type": "stream",
     "text": [
      "4.3e+05 solMass\n",
      "429.908292559276 solMass / solLum\n"
     ]
    }
   ],
   "source": [
    "# Willman I observations\n",
    "sigma_Willman = 4.3*u.km/u.s\n",
    "Re_Willman = 25*u.pc\n",
    "Lv_Willman = 1e3*u.Lsun\n",
    "\n",
    "# Compute Wolf mass for Willman I\n",
    "mWolf_Willman = WolfMass(sigma_Willman, Re_Willman.to(u.kpc))\n",
    "print(f\"{mWolf_Willman:.3}\")\n",
    "\n",
    "# Compute mass-luminosity ratio for Willman I\n",
    "print(f\"{mWolf_Willman/Lv_Willman}\")"
   ]
  },
  {
   "cell_type": "markdown",
   "metadata": {},
   "source": [
    "Since both objects have a similar dynamical mass but 47 Tuc has a very small $R_e$ and low mass-luminosity ratio, it is more likely that Willman I is a galaxy while 47 Tuc is not because it has a higher $R_e$ and a mass-luminosity ratio more characteristic of a dwarf galaxy."
   ]
  },
  {
   "cell_type": "markdown",
   "metadata": {},
   "source": [
    "# Part B :  Stellar to Halo Mass Relation\n",
    "\n",
    "Following the work of [Moster et al. 2013 (MNRAS, 428, 3121)](https://ui.adsabs.harvard.edu/abs/2013MNRAS.428.3121M/abstract)\n",
    "\n",
    "\n",
    "`Equation 2:`                  $ \\frac{m}{M} = 2N \\left [ \\left ( \\frac{M}{M_1} \\right)^{-\\beta} + \\left (\\frac{M}{M_1} \\right)^{\\gamma} \\right]$ \n",
    "\n",
    "$m$ = stellar mass, $M$ = halo mass\n",
    "\n",
    "`Equation 11:`        log $M_1(z) = M_{10} + M_{11} \\frac{z}{z+1} $ \n",
    "\n",
    "`Equation 12:`        $N(z) = N_{10} + N_{11} \\frac{z}{z+1} $\n",
    "\n",
    "`Equation 13:`         $\\beta(z) = \\beta_{10} + \\beta_{11} \\frac{z}{z+1} $\n",
    "\n",
    "`Equation 14:`         $\\gamma(z) = \\gamma_{10} + \\gamma_{11} \\frac{z}{z+1} $"
   ]
  },
  {
   "cell_type": "markdown",
   "metadata": {},
   "source": [
    "# Q1 \n",
    "\n",
    "Modify the class below by adding a function called `StellarMass` that uses the `SHMratio` function and returns the stellar mass."
   ]
  },
  {
   "cell_type": "code",
   "execution_count": 6,
   "metadata": {},
   "outputs": [],
   "source": [
    "class AbundanceMatching:\n",
    "    \"\"\" Class to define the abundance matching relations from \n",
    "    Moster et al. 2013, which relate the stellar mass of a galaxy\n",
    "    to the expected dark matter halo mass, according to \n",
    "    Lambda Cold Dark Matter (LCDM) theory \"\"\"\n",
    "    \n",
    "    \n",
    "    def __init__(self, mhalo, z):\n",
    "        \"\"\" Initialize the class\n",
    "        \n",
    "        PARAMETERS\n",
    "        ----------\n",
    "            mhalo: float\n",
    "                Halo mass in Msun\n",
    "            z: float\n",
    "                redshift\n",
    "        \"\"\"\n",
    "        \n",
    "        #initializing the parameters:\n",
    "        self.mhalo = mhalo # Halo Mass in Msun\n",
    "        self.z = z  # Redshift\n",
    "        \n",
    "        \n",
    "    def logM1(self):\n",
    "        \"\"\"eq. 11 of Moster 2013\n",
    "        OUTPUT: \n",
    "            M1: float \n",
    "                characteristic mass in log(Msun)\n",
    "        \"\"\"\n",
    "        M10      = 11.59\n",
    "        M11      = 1.195 \n",
    "        return M10 + M11*(self.z/(1+self.z))  \n",
    "    \n",
    "    \n",
    "    def N(self):\n",
    "        \"\"\"eq. 12 of Moster 2013\n",
    "        OUTPUT: \n",
    "            Normalization for eq. 2\n",
    "        \"\"\"\n",
    "        N10      = 0.0351\n",
    "        N11      = -0.0247\n",
    "    \n",
    "        return N10 + N11*(self.z/(1+self.z))\n",
    "    \n",
    "    \n",
    "    def Beta(self):\n",
    "        \"\"\"eq. 13 of Moster 2013\n",
    "        OUTPUT:  power of the low mass slope\"\"\"\n",
    "        beta10      = 1.376\n",
    "        beta11      = -0.826\n",
    "    \n",
    "        return beta10 + beta11*(self.z/(1+self.z))\n",
    "    \n",
    "    def Gamma(self):\n",
    "        \"\"\"eq. 14 of Moster 2013\n",
    "        OUTPUT: power of the high mass slope \"\"\"\n",
    "        gamma10      = 0.608\n",
    "        gamma11      = 0.329\n",
    "    \n",
    "        return gamma10 + gamma11*(self.z/(1+self.z))\n",
    "    \n",
    "    \n",
    "    def SHMratio(self):\n",
    "        \"\"\" \n",
    "        eq. 2 of Moster + 2013\n",
    "        The ratio of the stellar mass to the halo mass\n",
    "        \n",
    "        OUTPUT: \n",
    "            SHMratio float\n",
    "                Stellar mass to halo mass ratio\n",
    "        \"\"\"\n",
    "        M1 = 10**self.logM1() # Converting characteristic mass \n",
    "        # to Msun from Log(Msun)\n",
    "        \n",
    "        A = (self.mhalo/M1)**(-self.Beta())  # Low mass end\n",
    "        \n",
    "        B = (self.mhalo/M1)**(self.Gamma())   # High mass end\n",
    "        \n",
    "        Norm = 2*self.N() # Normalization\n",
    "    \n",
    "        SHMratio = Norm*(A+B)**(-1)\n",
    "    \n",
    "        return SHMratio \n",
    "    \n",
    " # Q1: add a function to the class that takes the SHM ratio and returns \n",
    "# The stellar mass \n",
    "    def StellarMass(self): \n",
    "        \"\"\"\n",
    "        OUTPUT: \n",
    "            Mstellar float \n",
    "                 Product of the halo mass and SHM ratio calculated using eq. 2 of Moster+13\n",
    "        \"\"\"\n",
    "        Mstellar = self.SHMratio() * self.mhalo\n",
    "        return Mstellar\n"
   ]
  },
  {
   "cell_type": "markdown",
   "metadata": {},
   "source": [
    "# Part C : Plot the Moster Relation\n",
    "\n",
    "Reproduce the below figure from Moster + 2013 \n",
    "Plot this for z=0, 0.5, 1, 2\n",
    "\n",
    "![mos](./MosterFig.png)"
   ]
  },
  {
   "cell_type": "code",
   "execution_count": 7,
   "metadata": {},
   "outputs": [],
   "source": [
    "mh = np.logspace(10,15,1000) # Logarithmically spaced array"
   ]
  },
  {
   "cell_type": "code",
   "execution_count": 8,
   "metadata": {},
   "outputs": [],
   "source": [
    "# Define Instances of the Class for each redshift\n",
    "MosterZ0 = AbundanceMatching(mh,0)\n",
    "MosterZ05 = AbundanceMatching(mh,0.5)\n",
    "MosterZ1 = AbundanceMatching(mh,1)\n",
    "MosterZ2 = AbundanceMatching(mh,2)"
   ]
  },
  {
   "cell_type": "code",
   "execution_count": 10,
   "metadata": {},
   "outputs": [
    {
     "data": {
      "image/png": "[encoded data removed]",
      "text/plain": [
       "<Figure size 1000x800 with 1 Axes>"
      ]
     },
     "metadata": {},
     "output_type": "display_data"
    }
   ],
   "source": [
    "\n",
    "fig,ax = plt.subplots(figsize=(10,8))\n",
    "\n",
    "\n",
    "#adjust tick label font size\n",
    "label_size = 22\n",
    "matplotlib.rcParams['xtick.labelsize'] = label_size \n",
    "matplotlib.rcParams['ytick.labelsize'] = label_size\n",
    "\n",
    "# Plot z = 0\n",
    "plt.plot(np.log10(mh), np.log10(MosterZ0.StellarMass()),\n",
    "         linewidth = 5, label='z=0')\n",
    "\n",
    "# Continue plotting for the other redshifts here\n",
    "\n",
    "# Plot z=0.5\n",
    "plt.plot(np.log10(mh), np.log10(MosterZ05.StellarMass()),\n",
    "         linewidth = 5, linestyle='--', label='z=0.5')\n",
    "\n",
    "# Plot z=1\n",
    "plt.plot(np.log10(mh), np.log10(MosterZ1.StellarMass()),\n",
    "         linewidth = 5, linestyle='-.', label='z=1')\n",
    "\n",
    "# Plot z=2\n",
    "plt.plot(np.log10(mh), np.log10(MosterZ2.StellarMass()),\n",
    "         linewidth = 5, linestyle=':', label='z=2')\n",
    "\n",
    "\n",
    "# Axes labels \n",
    "plt.xlabel('log (M$_h$/M$_\\odot$)',fontsize=22) \n",
    "plt.ylabel('log (m$_\\star$/M$_\\odot$)', fontsize=22)\n",
    "\n",
    "# Legend\n",
    "plt.legend(loc='lower right',fontsize='x-large')\n",
    "\n",
    "# save the file \n",
    "plt.savefig('AbundanceMatching_Lab5.png')"
   ]
  },
  {
   "cell_type": "markdown",
   "metadata": {},
   "source": [
    "# Part D\n",
    "\n",
    "# Q1\n",
    "\n",
    "In studies that have modeled the Magellanic Clouds prior to 2010, the LMC is traditionally modeled with a halo (dark matter) mass of order $3 \\times 10^{10}$M$_\\odot$.  \n",
    "\n",
    "## A) \n",
    "According to $\\Lambda$CDM theory, what should be the stellar mass of the LMC halo be at z=0?  \n",
    "\n",
    "## B) \n",
    "How does this stellar mass compare to the actual observed stellar mass of the LMC at the present day of ~$3 \\times 10^9$ M$_\\odot$ ?\n",
    "\n",
    "## C) \n",
    "What is the $\\Lambda$CDM expected halo mass for the LMC (using Abundance Matching)? "
   ]
  },
  {
   "cell_type": "code",
   "execution_count": 12,
   "metadata": {},
   "outputs": [],
   "source": [
    "# LMC halo mass \n",
    "haloLMC1 = 3e10 # traditional models \n",
    "\n",
    "# Abundance matching object \n",
    "LMC1 = AbundanceMatching(haloLMC1, 0)"
   ]
  },
  {
   "cell_type": "code",
   "execution_count": 17,
   "metadata": {},
   "outputs": [
    {
     "name": "stdout",
     "output_type": "stream",
     "text": [
      "0.061582173613615045\n",
      "2.0527391204538348\n"
     ]
    }
   ],
   "source": [
    "# Find the stellar mass \n",
    "\n",
    "LMC1star = LMC1.StellarMass()\n",
    "\n",
    "print(LMC1star/1e9)\n",
    "print(LMC1star/3e9 * 100)"
   ]
  },
  {
   "cell_type": "code",
   "execution_count": 54,
   "metadata": {},
   "outputs": [],
   "source": [
    "# say we know that LMC stellar mass = 3e9 Msun \n",
    "# What is the halo mass ? \n",
    "\n",
    "haloLMC2 = 1.6475*1e11\n",
    "\n",
    "LMC2 = AbundanceMatching(haloLMC2, 0)"
   ]
  },
  {
   "cell_type": "code",
   "execution_count": 55,
   "metadata": {},
   "outputs": [
    {
     "name": "stdout",
     "output_type": "stream",
     "text": [
      "3.0\n"
     ]
    }
   ],
   "source": [
    "LMC2star = LMC2.StellarMass()\n",
    "\n",
    "print(np.round(LMC2star/1e9, 3))"
   ]
  },
  {
   "cell_type": "markdown",
   "metadata": {},
   "source": [
    "# Q2\n",
    "\n",
    "## A) \n",
    "What is the expected stellar mass of an L* galaxy at z=0? \n",
    "\n",
    "\n",
    "## B)\n",
    "What is the expected stellar mass of an L* galaxy at z = 2? "
   ]
  },
  {
   "cell_type": "code",
   "execution_count": 57,
   "metadata": {},
   "outputs": [
    {
     "name": "stdout",
     "output_type": "stream",
     "text": [
      "Log M1, z=0: 11.59\n"
     ]
    }
   ],
   "source": [
    "# Find characteristic Halo mass at z=0\n",
    "\n",
    "M1halo_z0 = MosterZ0.logM1()\n",
    "print(f'Log M1, z=0: {M1halo_z0}')\n"
   ]
  },
  {
   "cell_type": "code",
   "execution_count": 58,
   "metadata": {},
   "outputs": [],
   "source": [
    "# Create a new instance of the class, with halo mass = log M1 at z=0\n",
    "\n",
    "M1z0 = AbundanceMatching(10**M1halo_z0, 0)"
   ]
  },
  {
   "cell_type": "code",
   "execution_count": 61,
   "metadata": {},
   "outputs": [
    {
     "name": "stdout",
     "output_type": "stream",
     "text": [
      "Stellar mass of L* gal at z=0: 1.3655484589299245 (1e10/Msun)\n"
     ]
    }
   ],
   "source": [
    "# Determine the stellar mass of that halo \n",
    "\n",
    "M1star_z0 = M1z0.StellarMass()\n",
    "print(f\"Stellar mass of L* gal at z=0: {M1star_z0/1e10} (1e10/Msun)\")"
   ]
  },
  {
   "cell_type": "code",
   "execution_count": 65,
   "metadata": {},
   "outputs": [
    {
     "name": "stdout",
     "output_type": "stream",
     "text": [
      "Log M1, z=2: 12.386666666666667\n",
      "Stellar mass of L* gal at z=2: 4.538969033454143 (1e10/Msun)\n"
     ]
    }
   ],
   "source": [
    "# Repeating at z=2\n",
    "M1halo_z2 = MosterZ2.logM1()\n",
    "print(f'Log M1, z=2: {M1halo_z2}')\n",
    "\n",
    "# Create a new instance of the class, with halo mass = log M1 at z=0\n",
    "M1z2 = AbundanceMatching(10**M1halo_z2, 2)\n",
    "\n",
    "# Determine the stellar mass of that halo \n",
    "M1star_z2 = M1z2.StellarMass()\n",
    "print(f\"Stellar mass of L* gal at z=2: {M1star_z2/1e10} (1e10/Msun)\")"
   ]
  }
 ],
 "metadata": {
  "kernelspec": {
   "display_name": "Python 3 (ipykernel)",
   "language": "python",
   "name": "python3"
  },
  "language_info": {
   "codemirror_mode": {
    "name": "ipython",
    "version": 3
   },
   "file_extension": ".py",
   "mimetype": "text/x-python",
   "name": "python",
   "nbconvert_exporter": "python",
   "pygments_lexer": "ipython3",
   "version": "3.11.8"
  }
 },
 "nbformat": 4,
 "nbformat_minor": 2
}

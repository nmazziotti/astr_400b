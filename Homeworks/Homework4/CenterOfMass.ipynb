{
 "cells": [
  {
   "cell_type": "code",
   "execution_count": 29,
   "metadata": {},
   "outputs": [],
   "source": [
    "# Homework 4\n",
    "# Center of Mass Position and Velocity\n",
    "# Nicolas Mazziotti"
   ]
  },
  {
   "cell_type": "code",
   "execution_count": 30,
   "metadata": {
    "ExecuteTime": {
     "end_time": "2020-02-04T23:59:21.657237Z",
     "start_time": "2020-02-04T23:59:21.653687Z"
    }
   },
   "outputs": [],
   "source": [
    "# import modules\n",
    "import numpy as np\n",
    "import astropy.units as u\n",
    "import astropy.table as tbl\n",
    "\n",
    "from CenterOfMass import CenterOfMass"
   ]
  },
  {
   "cell_type": "code",
   "execution_count": 31,
   "metadata": {
    "ExecuteTime": {
     "end_time": "2020-02-04T23:59:30.160978Z",
     "start_time": "2020-02-04T23:59:26.220455Z"
    }
   },
   "outputs": [],
   "source": [
    "# Create a Center of mass object for the MW, M31 and M33\n",
    "MW_COM = CenterOfMass(\"../Homework3/MW_000.txt\", 2)\n",
    "\n",
    "M31_COM = CenterOfMass(\"../Homework3/M31_000.txt\", 2)\n",
    "\n",
    "M33_COM = CenterOfMass(\"../Homework3/M33_000.txt\", 2)"
   ]
  },
  {
   "cell_type": "markdown",
   "metadata": {},
   "source": [
    "1. What is the COM position (in kpc) and velocity (in km/s) vector for the MW, M31 and M33 at Snapshot 0 using Disk Particles only (use 0.1 kpc as the tolerance so we can have the same answers to compare) ? In practice, disk particles work the best for the COM determination. Recall that the MW COM should be close to the origin of the coordinate system (0,0,0)."
   ]
  },
  {
   "cell_type": "code",
   "execution_count": 32,
   "metadata": {
    "ExecuteTime": {
     "end_time": "2020-02-04T23:59:30.820428Z",
     "start_time": "2020-02-04T23:59:30.761163Z"
    }
   },
   "outputs": [
    {
     "name": "stdout",
     "output_type": "stream",
     "text": [
      "[-0.87  2.39 -1.42] kpc\n",
      "[-0.47  3.41 -1.33] km / s\n"
     ]
    }
   ],
   "source": [
    "# MW:   store the position and velocity COM\n",
    "MW_COM_p = MW_COM.COM_P(0.1) # MW COM position \n",
    "print(MW_COM_p) \n",
    "MW_COM_v = MW_COM.COM_V(MW_COM_p[0], MW_COM_p[1], MW_COM_p[2]) # MW COM velocity \n",
    "print(MW_COM_v)"
   ]
  },
  {
   "cell_type": "markdown",
   "metadata": {},
   "source": [
    "The COM position vector components are all relatively close to (0,0,0) so the code seems to have worked as expected."
   ]
  },
  {
   "cell_type": "code",
   "execution_count": 33,
   "metadata": {},
   "outputs": [
    {
     "name": "stdout",
     "output_type": "stream",
     "text": [
      "[-377.66  611.43 -284.64] kpc\n",
      "[ 72.85 -72.14  49.  ] km / s\n"
     ]
    }
   ],
   "source": [
    "# Repeat for M31\n",
    "M31_COM_p = M31_COM.COM_P(0.1)\n",
    "print(M31_COM_p)\n",
    "M31_COM_v = M31_COM.COM_V(M31_COM_p[0], M31_COM_p[1], M31_COM_p[2])\n",
    "print(M31_COM_v)"
   ]
  },
  {
   "cell_type": "code",
   "execution_count": 34,
   "metadata": {},
   "outputs": [
    {
     "name": "stdout",
     "output_type": "stream",
     "text": [
      "[-476.22  491.44 -412.4 ] kpc\n",
      "[ 44.42 101.78 142.23] km / s\n"
     ]
    }
   ],
   "source": [
    "# Repeat for M33\n",
    "M33_COM_p = M33_COM.COM_P(0.1)\n",
    "print(M33_COM_p)\n",
    "M33_COM_v = M33_COM.COM_V(M33_COM_p[0], M33_COM_p[1], M33_COM_p[2])\n",
    "print(M33_COM_v)"
   ]
  },
  {
   "cell_type": "markdown",
   "metadata": {},
   "source": [
    "2. What is the magnitude of the current separation (in kpc) and velocity (in km/s)\n",
    "between the MW and M31? Round your answers to three decimal places. From class,\n",
    "you already know what the relative separation and velocity should roughly be (Lecture2\n",
    "Handouts; Jan 16)."
   ]
  },
  {
   "cell_type": "code",
   "execution_count": 20,
   "metadata": {},
   "outputs": [
    {
     "name": "stdout",
     "output_type": "stream",
     "text": [
      "770.139 kpc\n",
      "116.691 km / s\n"
     ]
    }
   ],
   "source": [
    "# Compute separation vector and calculate its magnitude in kpc\n",
    "MW_M31_sep =  np.round( np.linalg.norm(M31_COM_p - MW_COM_p), 3) \n",
    "# use np.linalg.norm to calculate magnitude for convenience\n",
    "print(MW_M31_sep)\n",
    "\n",
    "# Computer relative velocity of M31 to MW and calculate its magnitude in km/s\n",
    "MW_M31_vel = np.round( np.linalg.norm(M31_COM_v - MW_COM_v) , 3)\n",
    "print(MW_M31_vel)"
   ]
  },
  {
   "cell_type": "markdown",
   "metadata": {},
   "source": [
    "From the lecture slides, M31 is ~770 kpc away from the MW and is moving towards the MW at ~110 km/s. These are approximately the same results that I have."
   ]
  },
  {
   "cell_type": "markdown",
   "metadata": {},
   "source": [
    "3. What is the magnitude of the current separation (in kpc) and velocity (in km/s)\n",
    "between M33 and M31? Round your answers to three decimal places."
   ]
  },
  {
   "cell_type": "code",
   "execution_count": 21,
   "metadata": {},
   "outputs": [
    {
     "name": "stdout",
     "output_type": "stream",
     "text": [
      "201.083 kpc\n",
      "199.37 km / s\n"
     ]
    }
   ],
   "source": [
    "# Compute separation vector of M33 to M31 and calculate its magnitude in kpc\n",
    "M33_M31_sep =  np.round( np.linalg.norm(M31_COM_p - M33_COM_p), 3)\n",
    "print(M33_M31_sep)\n",
    "\n",
    "# Computer relative velocity vector of M33 to M31 and calculate its magnitude in km/s\n",
    "M33_M31_vel = np.round( np.linalg.norm(M31_COM_v - M33_COM_v) , 3)\n",
    "print(M33_M31_vel)"
   ]
  },
  {
   "cell_type": "markdown",
   "metadata": {},
   "source": [
    "The lecture slides report that M33 is moving towards M31 at ~202 km/s, so my answer is very close to this. I could not find a distance from M33 to M31 in the lecture slides, but I used Google to find that M33 is about 3 million light years away from the MW, or around 919 kpc, so if you add my value of 201 kpc to the 770 kpc distance to M31, then my value of 201 kpc is in this ballpark. "
   ]
  },
  {
   "cell_type": "markdown",
   "metadata": {},
   "source": [
    "4. Given that M31 and the MW are about to merge, why is the iterative process to\n",
    "determine the COM is important?"
   ]
  },
  {
   "cell_type": "markdown",
   "metadata": {},
   "source": [
    "As the two galaxies get closer to each other, the outer edges of each galaxy might get tidally disrupted and result in a misrespentative location for the COM if considering all particles at once. The iterative process helps avoid this issue by calculating a COM position using only the particles that have been least affected by stripping effects. This is especially important once the galaxies have actually collided with each other, because one can determine when the galaxies have fully merged if the COM positions coincide. "
   ]
  }
 ],
 "metadata": {
  "kernelspec": {
   "display_name": "Python 3 (ipykernel)",
   "language": "python",
   "name": "python3"
  },
  "language_info": {
   "codemirror_mode": {
    "name": "ipython",
    "version": 3
   },
   "file_extension": ".py",
   "mimetype": "text/x-python",
   "name": "python",
   "nbconvert_exporter": "python",
   "pygments_lexer": "ipython3",
   "version": "3.11.8"
  },
  "varInspector": {
   "cols": {
    "lenName": 16,
    "lenType": 16,
    "lenVar": 40
   },
   "kernels_config": {
    "python": {
     "delete_cmd_postfix": "",
     "delete_cmd_prefix": "del ",
     "library": "var_list.py",
     "varRefreshCmd": "print(var_dic_list())"
    },
    "r": {
     "delete_cmd_postfix": ") ",
     "delete_cmd_prefix": "rm(",
     "library": "var_list.r",
     "varRefreshCmd": "cat(var_dic_list()) "
    }
   },
   "types_to_exclude": [
    "module",
    "function",
    "builtin_function_or_method",
    "instance",
    "_Feature"
   ],
   "window_display": false
  }
 },
 "nbformat": 4,
 "nbformat_minor": 2
}

{
 "cells": [
  {
   "cell_type": "code",
   "execution_count": 1,
   "metadata": {},
   "outputs": [],
   "source": [
    "import numpy as np\n",
    "import astropy.units as u"
   ]
  },
  {
   "cell_type": "code",
   "execution_count": 2,
   "metadata": {},
   "outputs": [],
   "source": [
    "from ReadFile import ReadFile\n",
    "from ParticleProperties import ParticleInfo"
   ]
  },
  {
   "cell_type": "code",
   "execution_count": 5,
   "metadata": {},
   "outputs": [],
   "source": [
    "# Filename of SnapNumber 0 (present day) of Milky Way\n",
    "MW_000_fn = 'MW_000.txt'"
   ]
  },
  {
   "cell_type": "code",
   "execution_count": 6,
   "metadata": {},
   "outputs": [],
   "source": [
    "# Testing that ReadFile works\n",
    "time, N_tot, data = ReadFile(MW_000_fn)"
   ]
  },
  {
   "cell_type": "code",
   "execution_count": 10,
   "metadata": {},
   "outputs": [
    {
     "name": "stdout",
     "output_type": "stream",
     "text": [
      "1.0\n"
     ]
    }
   ],
   "source": [
    "# Check that the \"type\" value of the particle at index 1 in the table is 1.0.\n",
    "print(data['type'][1])"
   ]
  },
  {
   "cell_type": "code",
   "execution_count": 16,
   "metadata": {},
   "outputs": [],
   "source": [
    "# Get information for the 100th (index 99) MW Disk particle at SnapNumber 0\n",
    "ParticleNum = 99\n",
    "ParticleType = 'Disk'\n",
    "\n",
    "distance, velocity, mass = ParticleInfo(MW_000_fn, ParticleType, ParticleNum)"
   ]
  },
  {
   "cell_type": "code",
   "execution_count": 21,
   "metadata": {},
   "outputs": [
    {
     "name": "stdout",
     "output_type": "stream",
     "text": [
      "Distance from MW center of mass: 4.245 kpc\n",
      "Distance from MW center of mass in light years: 13845.338 lyr\n"
     ]
    }
   ],
   "source": [
    "print(f\"Distance from MW center of mass: {distance}\")\n",
    "print(f\"Distance from MW center of mass in light years: {np.round(distance.to(u.lyr), 3)}\")"
   ]
  },
  {
   "cell_type": "code",
   "execution_count": 26,
   "metadata": {},
   "outputs": [
    {
     "name": "stdout",
     "output_type": "stream",
     "text": [
      "Particle velocity: 312.135 km / s\n"
     ]
    }
   ],
   "source": [
    "print(f\"Particle velocity: {velocity}\")"
   ]
  },
  {
   "cell_type": "code",
   "execution_count": 28,
   "metadata": {},
   "outputs": [
    {
     "name": "stdout",
     "output_type": "stream",
     "text": [
      "Particle mass: 1000000.0 solMass\n"
     ]
    }
   ],
   "source": [
    "print(f\"Particle mass: {mass}\")"
   ]
  }
 ],
 "metadata": {
  "kernelspec": {
   "display_name": "base",
   "language": "python",
   "name": "python3"
  },
  "language_info": {
   "codemirror_mode": {
    "name": "ipython",
    "version": 3
   },
   "file_extension": ".py",
   "mimetype": "text/x-python",
   "name": "python",
   "nbconvert_exporter": "python",
   "pygments_lexer": "ipython3",
   "version": "3.11.8"
  }
 },
 "nbformat": 4,
 "nbformat_minor": 2
}

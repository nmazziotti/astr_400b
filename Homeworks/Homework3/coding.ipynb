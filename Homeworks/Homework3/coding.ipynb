{
 "cells": [
  {
   "cell_type": "code",
   "execution_count": 23,
   "metadata": {},
   "outputs": [],
   "source": [
    "import numpy as np\n",
    "from GalaxyMass import ComponentMass\n",
    "\n",
    "from astropy.table import Table"
   ]
  },
  {
   "cell_type": "code",
   "execution_count": 28,
   "metadata": {},
   "outputs": [],
   "source": [
    "# Create empty astropy table with the following columns:\n",
    "# Galaxy: MW, M31, or M33\n",
    "# Halo Mass\n",
    "# Disk Mass\n",
    "# Bulge Mass\n",
    "# Total Mass\n",
    "# f_bar (baryon fraction)\n",
    "\n",
    "t = Table(names=('Galaxy', r'Halo Mass ($10^{12} M_{\\odot}$)', \n",
    "                 r'Disk Mass ($10^{12} M_{\\odot}$)', \n",
    "                 r'Bulge Mass ($10^{12} M_{\\odot}$)', \n",
    "                 r'Total Mass ($10^{12} M_{\\odot}$)', r'$f_{bar}$'),\n",
    "         dtype=(str, float, float, float, float, float))"
   ]
  },
  {
   "cell_type": "code",
   "execution_count": 39,
   "metadata": {},
   "outputs": [],
   "source": [
    "def addGalaxyToTable(filename, GalaxyName):\n",
    "    \"\"\"\n",
    "    Function that adds a row to the table t defined in previous cell by computing the following:\n",
    "           HaloMass, DiskMass, BulgeMass, TotalMass, and fbar (baryon fraction)\n",
    "    \n",
    "    Inputs:\n",
    "        filename (str) where data is stored\n",
    "        GalaxyName (str): shortened name of galaxy for table \n",
    "        \n",
    "    Outputs:\n",
    "        None\n",
    "    \"\"\"\n",
    "    \n",
    "    HaloMass = ComponentMass(filename, 'DM')\n",
    "    DiskMass = ComponentMass(filename, 'Disk')\n",
    "    BulgeMass = ComponentMass(filename, 'Bulge')\n",
    "    TotalMass = HaloMass + DiskMass + BulgeMass\n",
    "    fbar = np.round((DiskMass + BulgeMass) / TotalMass, 3)\n",
    "    \n",
    "    t.add_row((GalaxyName, HaloMass, BulgeMass, DiskMass, TotalMass, fbar))"
   ]
  },
  {
   "cell_type": "code",
   "execution_count": 30,
   "metadata": {},
   "outputs": [],
   "source": [
    "addGalaxyToTable('MW_000.txt', 'MW') # Milky Way\n",
    "addGalaxyToTable('M31_000.txt', 'M31') # M31 (Andromeda galaxy)\n",
    "addGalaxyToTable('M33_000.txt', 'M33') # M33 (Triangulum galaxy)"
   ]
  },
  {
   "cell_type": "code",
   "execution_count": 35,
   "metadata": {},
   "outputs": [
    {
     "data": {
      "text/html": [
       "<div><i>Table length=3</i>\n",
       "<table id=\"table4695044240\" class=\"table-striped table-bordered table-condensed\">\n",
       "<thead><tr><th>Galaxy</th><th>Halo Mass ($10^{12} M_{\\odot}$)</th><th>Disk Mass ($10^{12} M_{\\odot}$)</th><th>Bulge Mass ($10^{12} M_{\\odot}$)</th><th>Total Mass ($10^{12} M_{\\odot}$)</th><th>$f_{bar}$</th></tr></thead>\n",
       "<thead><tr><th>str3</th><th>float64</th><th>float64</th><th>float64</th><th>float64</th><th>float64</th></tr></thead>\n",
       "<tr><td>MW</td><td>1.975</td><td>0.01</td><td>0.075</td><td>2.06</td><td>0.041</td></tr>\n",
       "<tr><td>M31</td><td>1.921</td><td>0.019</td><td>0.12</td><td>2.06</td><td>0.067</td></tr>\n",
       "<tr><td>M33</td><td>0.187</td><td>0.0</td><td>0.009</td><td>0.196</td><td>0.046</td></tr>\n",
       "</table></div>"
      ],
      "text/plain": [
       "<Table length=3>\n",
       "Galaxy Halo Mass ($10^{12} M_{\\odot}$) ... $f_{bar}$\n",
       " str3              float64             ...  float64 \n",
       "------ ------------------------------- ... ---------\n",
       "    MW                           1.975 ...     0.041\n",
       "   M31                           1.921 ...     0.067\n",
       "   M33                           0.187 ...     0.046"
      ]
     },
     "execution_count": 35,
     "metadata": {},
     "output_type": "execute_result"
    }
   ],
   "source": [
    "# Look at table after adding each galaxy\n",
    "\n",
    "t"
   ]
  },
  {
   "cell_type": "code",
   "execution_count": 32,
   "metadata": {},
   "outputs": [],
   "source": [
    "# Save to .tex file to easily copy and paste into Overleaf for further formatting \n",
    "t.write('table.tex', format='latex', overwrite=True)"
   ]
  },
  {
   "cell_type": "code",
   "execution_count": 60,
   "metadata": {},
   "outputs": [
    {
     "name": "stdout",
     "output_type": "stream",
     "text": [
      "MW_HaloMass/M31_HaloMass = 1.028110359187923\n",
      "MW DM Dominance: 95.87378640776699% of total mass\n",
      "M31 DM Dominance: 93.25242718446601% of total mass\n"
     ]
    }
   ],
   "source": [
    "# Compute ratio of the halo masses of the MW and M31\n",
    "print(f\"MW_HaloMass/M31_HaloMass = {t.columns[1][0]/t.columns[1][1]}\") # HaloMass is column 1 of table\n",
    "\n",
    "# Computer how dominant the DM content of each galaxy is relative to the total mass\n",
    "print(f\"MW DM Dominance: {t.columns[1][0]/t.columns[4][0] * 100}% of total mass\") # Total mass is column 4 of table\n",
    "print(f\"M31 DM Dominance: {t.columns[1][1]/t.columns[4][1] * 100}% of total mass\")"
   ]
  }
 ],
 "metadata": {
  "kernelspec": {
   "display_name": "Python 3 (ipykernel)",
   "language": "python",
   "name": "python3"
  },
  "language_info": {
   "codemirror_mode": {
    "name": "ipython",
    "version": 3
   },
   "file_extension": ".py",
   "mimetype": "text/x-python",
   "name": "python",
   "nbconvert_exporter": "python",
   "pygments_lexer": "ipython3",
   "version": "3.11.8"
  }
 },
 "nbformat": 4,
 "nbformat_minor": 2
}

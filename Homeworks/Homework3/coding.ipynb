{
 "cells": [
  {
   "cell_type": "code",
   "execution_count": 11,
   "metadata": {},
   "outputs": [],
   "source": [
    "import numpy as np\n",
    "import astropy.units as u\n",
    "\n",
    "from GalaxyMass import ComponentMass\n",
    "\n",
    "from astropy.table import Table"
   ]
  },
  {
   "cell_type": "code",
   "execution_count": 44,
   "metadata": {},
   "outputs": [],
   "source": [
    "t = Table(names=('Galaxy', r'Halo Mass ($10^{12} M_{\\odot}$)', \n",
    "                 r'Disk Mass ($10^{12} M_{\\odot}$)', \n",
    "                 r'Bulge Mass ($10^{12} M_{\\odot}$)', \n",
    "                 r'Total Mass ($10^{12} M_{\\odot}$)', r'$f_{bar}$'),\n",
    "         dtype=(str, float, float, float, float, float))"
   ]
  },
  {
   "cell_type": "code",
   "execution_count": 45,
   "metadata": {},
   "outputs": [],
   "source": [
    "MW_fn = 'MW_000.txt'\n",
    "MW_HaloMass = ComponentMass(MW_fn, 'DM')\n",
    "MW_DiskMass = ComponentMass(MW_fn, 'Disk')\n",
    "MW_BulgeMass = ComponentMass(MW_fn, 'Bulge')\n",
    "MW_TotMass = MW_HaloMass + MW_DiskMass + MW_BulgeMass\n",
    "MW_fbar = (MW_DiskMass + MW_BulgeMass) / MW_TotMass\n",
    "\n",
    "t.add_row(('MW', MW_HaloMass,\n",
    "          MW_DiskMass, \n",
    "          MW_BulgeMass, MW_TotMass, np.round(MW_fbar, 3)))"
   ]
  },
  {
   "cell_type": "code",
   "execution_count": 46,
   "metadata": {},
   "outputs": [],
   "source": [
    "M31_fn = 'M31_000.txt'\n",
    "M31_HaloMass = ComponentMass(M31_fn, 'DM')\n",
    "M31_DiskMass = ComponentMass(M31_fn, 'Disk')\n",
    "M31_BulgeMass = ComponentMass(M31_fn, 'Bulge')\n",
    "M31_TotMass = M31_HaloMass + M31_DiskMass + M31_BulgeMass\n",
    "M31_fbar = (M31_DiskMass + M31_BulgeMass) / M31_TotMass\n",
    "\n",
    "t.add_row(('M31', M31_HaloMass,\n",
    "          M31_DiskMass, \n",
    "          M31_BulgeMass, M31_TotMass, np.round(M31_fbar, 3)))"
   ]
  },
  {
   "cell_type": "code",
   "execution_count": 47,
   "metadata": {},
   "outputs": [],
   "source": [
    "M33_fn = 'M33_000.txt'\n",
    "M33_HaloMass = ComponentMass(M33_fn, 'DM')\n",
    "M33_DiskMass = ComponentMass(M33_fn, 'Disk')\n",
    "M33_BulgeMass = ComponentMass(M33_fn, 'Bulge')\n",
    "M33_TotMass = M33_HaloMass + M33_DiskMass + M33_BulgeMass\n",
    "M33_fbar = (M33_DiskMass + M33_BulgeMass) / M33_TotMass\n",
    "\n",
    "t.add_row(('M33', M33_HaloMass,\n",
    "          M33_DiskMass, \n",
    "          M33_BulgeMass, M33_TotMass, np.round(M33_fbar, 3)))"
   ]
  },
  {
   "cell_type": "code",
   "execution_count": 48,
   "metadata": {},
   "outputs": [
    {
     "data": {
      "text/html": [
       "<div><i>Table length=3</i>\n",
       "<table id=\"table6042373776\" class=\"table-striped table-bordered table-condensed\">\n",
       "<thead><tr><th>Galaxy</th><th>Halo Mass ($10^{12} M_{\\odot}$)</th><th>Disk Mass ($10^{12} M_{\\odot}$)</th><th>Bulge Mass ($10^{12} M_{\\odot}$)</th><th>Total Mass ($10^{12} M_{\\odot}$)</th><th>$f_{bar}$</th></tr></thead>\n",
       "<thead><tr><th>str3</th><th>float64</th><th>float64</th><th>float64</th><th>float64</th><th>float64</th></tr></thead>\n",
       "<tr><td>MW</td><td>1.975</td><td>0.075</td><td>0.01</td><td>2.06</td><td>0.041</td></tr>\n",
       "<tr><td>M31</td><td>1.921</td><td>0.12</td><td>0.019</td><td>2.06</td><td>0.067</td></tr>\n",
       "<tr><td>M33</td><td>0.187</td><td>0.009</td><td>0.0</td><td>0.196</td><td>0.046</td></tr>\n",
       "</table></div>"
      ],
      "text/plain": [
       "<Table length=3>\n",
       "Galaxy Halo Mass ($10^{12} M_{\\odot}$) ... $f_{bar}$\n",
       " str3              float64             ...  float64 \n",
       "------ ------------------------------- ... ---------\n",
       "    MW                           1.975 ...     0.041\n",
       "   M31                           1.921 ...     0.067\n",
       "   M33                           0.187 ...     0.046"
      ]
     },
     "execution_count": 48,
     "metadata": {},
     "output_type": "execute_result"
    }
   ],
   "source": [
    "t"
   ]
  },
  {
   "cell_type": "code",
   "execution_count": null,
   "metadata": {},
   "outputs": [],
   "source": []
  }
 ],
 "metadata": {
  "kernelspec": {
   "display_name": "Python 3 (ipykernel)",
   "language": "python",
   "name": "python3"
  },
  "language_info": {
   "codemirror_mode": {
    "name": "ipython",
    "version": 3
   },
   "file_extension": ".py",
   "mimetype": "text/x-python",
   "name": "python",
   "nbconvert_exporter": "python",
   "pygments_lexer": "ipython3",
   "version": "3.11.8"
  }
 },
 "nbformat": 4,
 "nbformat_minor": 2
}
